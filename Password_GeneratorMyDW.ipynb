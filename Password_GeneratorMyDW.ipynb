{
  "nbformat": 4,
  "nbformat_minor": 0,
  "metadata": {
    "colab": {
      "provenance": [],
      "authorship_tag": "ABX9TyMfqXBZCHHPBVdLsvYvxzwJ",
      "include_colab_link": true
    },
    "kernelspec": {
      "name": "python3",
      "display_name": "Python 3"
    },
    "language_info": {
      "name": "python"
    }
  },
  "cells": [
    {
      "cell_type": "markdown",
      "metadata": {
        "id": "view-in-github",
        "colab_type": "text"
      },
      "source": [
        "<a href=\"https://colab.research.google.com/github/SharmaSensei/MyDailyWork/blob/main/Password_GeneratorMyDW.ipynb\" target=\"_parent\"><img src=\"https://colab.research.google.com/assets/colab-badge.svg\" alt=\"Open In Colab\"/></a>"
      ]
    },
    {
      "cell_type": "code",
      "execution_count": null,
      "metadata": {
        "colab": {
          "base_uri": "https://localhost:8080/"
        },
        "id": "hv_9jvUtn9Xd",
        "outputId": "6a6c85d9-d8a4-41c4-fb03-c9a2317ad7df"
      },
      "outputs": [
        {
          "output_type": "stream",
          "name": "stdout",
          "text": [
            "Enter the desired length of the password: 3\n",
            "Generated Password: z#z\n"
          ]
        }
      ],
      "source": [
        "import random\n",
        "import string\n",
        "\n",
        "# Function to generate password\n",
        "def generate_password(length):\n",
        "    # Define the character set (letters, digits, and punctuation)\n",
        "    characters = string.ascii_letters + string.digits + string.punctuation\n",
        "    # Randomly generate the password\n",
        "    password = ''.join(random.choice(characters) for i in range(length))\n",
        "    return password\n",
        "\n",
        "# Get user input for password length\n",
        "try:\n",
        "    length = int(input(\"Enter the desired length of the password: \"))\n",
        "    if length < 1:\n",
        "        print(\"Password length must be at least 1.\")\n",
        "    else:\n",
        "        # Generate and display the password\n",
        "        print(\"Generated Password:\", generate_password(length))\n",
        "except ValueError:\n",
        "    print(\"Please enter a valid number.\")\n"
      ]
    }
  ]
}