{
  "nbformat": 4,
  "nbformat_minor": 0,
  "metadata": {
    "colab": {
      "provenance": [],
      "authorship_tag": "ABX9TyNZTgW9HCs3i6hZTRgAfPSr",
      "include_colab_link": true
    },
    "kernelspec": {
      "name": "python3",
      "display_name": "Python 3"
    },
    "language_info": {
      "name": "python"
    }
  },
  "cells": [
    {
      "cell_type": "markdown",
      "metadata": {
        "id": "view-in-github",
        "colab_type": "text"
      },
      "source": [
        "<a href=\"https://colab.research.google.com/github/SharmaSensei/MyDailyWork/blob/main/Weather_AppMyDW.ipynb\" target=\"_parent\"><img src=\"https://colab.research.google.com/assets/colab-badge.svg\" alt=\"Open In Colab\"/></a>"
      ]
    },
    {
      "cell_type": "code",
      "execution_count": 1,
      "metadata": {
        "colab": {
          "base_uri": "https://localhost:8080/"
        },
        "id": "J6rdtbhVvYgK",
        "outputId": "67533560-c0f9-4c39-94bd-3acf63bb14b5"
      },
      "outputs": [
        {
          "output_type": "stream",
          "name": "stdout",
          "text": [
            "Requirement already satisfied: requests in /usr/local/lib/python3.10/dist-packages (2.32.3)\n",
            "Requirement already satisfied: charset-normalizer<4,>=2 in /usr/local/lib/python3.10/dist-packages (from requests) (3.3.2)\n",
            "Requirement already satisfied: idna<4,>=2.5 in /usr/local/lib/python3.10/dist-packages (from requests) (3.10)\n",
            "Requirement already satisfied: urllib3<3,>=1.21.1 in /usr/local/lib/python3.10/dist-packages (from requests) (2.2.3)\n",
            "Requirement already satisfied: certifi>=2017.4.17 in /usr/local/lib/python3.10/dist-packages (from requests) (2024.8.30)\n"
          ]
        }
      ],
      "source": [
        "!pip install requests\n"
      ]
    },
    {
      "cell_type": "code",
      "source": [
        "import requests\n",
        "\n",
        "def get_weather(city, unit='metric'):\n",
        "    api_key = \"853b8fe7eb360a70dc06f08c646cd36a\"  # Your OpenWeatherMap API key\n",
        "    base_url = \"http://api.openweathermap.org/data/2.5/weather?\"\n",
        "\n",
        "    # Construct the full API URL\n",
        "    complete_url = f\"{base_url}q={city}&appid={api_key}&units={unit}\"\n",
        "\n",
        "    # Make the API request\n",
        "    response = requests.get(complete_url)\n",
        "\n",
        "    # Check if the request was successful\n",
        "    if response.status_code == 200:\n",
        "        data = response.json()\n",
        "        main = data['main']\n",
        "        weather = data['weather'][0]\n",
        "\n",
        "        # Extract relevant information\n",
        "        temperature = main['temp']\n",
        "        humidity = main['humidity']\n",
        "        wind_speed = data['wind']['speed']\n",
        "        description = weather['description']\n",
        "\n",
        "        # Display the weather information\n",
        "        unit_label = \"°C\" if unit == 'metric' else \"°F\"\n",
        "        print(f\"\\nWeather in {city.capitalize()}:\")\n",
        "        print(f\"Temperature: {temperature}{unit_label}\")\n",
        "        print(f\"Humidity: {humidity}%\")\n",
        "        print(f\"Wind Speed: {wind_speed} m/s\")\n",
        "        print(f\"Description: {description.capitalize()}\")\n",
        "    elif response.status_code == 404:\n",
        "        print(\"City not found. Please check the name and try again.\")\n",
        "    else:\n",
        "        print(\"Error retrieving data. Please try again later.\")\n",
        "\n",
        "def main():\n",
        "    while True:\n",
        "        print(\"\\nWelcome to the Weather Forecast Application!\")\n",
        "        unit_choice = input(\"Choose temperature unit (C for Celsius, F for Fahrenheit, or type 'exit' to quit): \")\n",
        "\n",
        "        if unit_choice.lower() == 'exit':\n",
        "            print(\"Exiting the Weather Forecast Application.\")\n",
        "            break\n",
        "        elif unit_choice.upper() not in ['C', 'F']:\n",
        "            print(\"Invalid choice. Please enter 'C' for Celsius or 'F' for Fahrenheit.\")\n",
        "            continue\n",
        "\n",
        "        unit = 'metric' if unit_choice.upper() == 'C' else 'imperial'\n",
        "\n",
        "        city = input(\"Enter the name of the city: \")\n",
        "        get_weather(city, unit)\n",
        "\n",
        "# Run the main function\n",
        "main()\n"
      ],
      "metadata": {
        "colab": {
          "base_uri": "https://localhost:8080/"
        },
        "id": "29Iamo2T1NFi",
        "outputId": "cbe8fc39-51bc-4d3b-e52c-a0b96c7a0d82"
      },
      "execution_count": 2,
      "outputs": [
        {
          "output_type": "stream",
          "name": "stdout",
          "text": [
            "\n",
            "Welcome to the Weather Forecast Application!\n",
            "Choose temperature unit (C for Celsius, F for Fahrenheit, or type 'exit' to quit): C\n",
            "Enter the name of the city: Mumbai\n",
            "\n",
            "Weather in Mumbai:\n",
            "Temperature: 26.99°C\n",
            "Humidity: 83%\n",
            "Wind Speed: 2.57 m/s\n",
            "Description: Mist\n",
            "\n",
            "Welcome to the Weather Forecast Application!\n",
            "Choose temperature unit (C for Celsius, F for Fahrenheit, or type 'exit' to quit): F\n",
            "Enter the name of the city: Ghatkopar\n",
            "City not found. Please check the name and try again.\n",
            "\n",
            "Welcome to the Weather Forecast Application!\n",
            "Choose temperature unit (C for Celsius, F for Fahrenheit, or type 'exit' to quit): f\n",
            "Enter the name of the city: Delhi\n",
            "\n",
            "Weather in Delhi:\n",
            "Temperature: 84.29°F\n",
            "Humidity: 79%\n",
            "Wind Speed: 3.44 m/s\n",
            "Description: Mist\n",
            "\n",
            "Welcome to the Weather Forecast Application!\n",
            "Choose temperature unit (C for Celsius, F for Fahrenheit, or type 'exit' to quit): exit\n",
            "Exiting the Weather Forecast Application.\n"
          ]
        }
      ]
    }
  ]
}